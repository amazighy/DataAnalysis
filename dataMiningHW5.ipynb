{
  "nbformat": 4,
  "nbformat_minor": 0,
  "metadata": {
    "colab": {
      "name": "dataMiningHW5.ipynb",
      "provenance": [],
      "collapsed_sections": [],
      "authorship_tag": "ABX9TyPHKVf8/m1IEKn0WGY9+3KE",
      "include_colab_link": true
    },
    "kernelspec": {
      "name": "python3",
      "display_name": "Python 3"
    }
  },
  "cells": [
    {
      "cell_type": "markdown",
      "metadata": {
        "id": "view-in-github",
        "colab_type": "text"
      },
      "source": [
        "<a href=\"https://colab.research.google.com/github/amazighy/DataAnalysis/blob/master/dataMiningHW5.ipynb\" target=\"_parent\"><img src=\"https://colab.research.google.com/assets/colab-badge.svg\" alt=\"Open In Colab\"/></a>"
      ]
    },
    {
      "cell_type": "code",
      "metadata": {
        "id": "Bclo7pmFxvXP"
      },
      "source": [
        ""
      ],
      "execution_count": null,
      "outputs": []
    },
    {
      "cell_type": "code",
      "metadata": {
        "id": "3a0bWUUYyJMJ"
      },
      "source": [
        "import pandas as pd \n",
        "import numpy as np "
      ],
      "execution_count": null,
      "outputs": []
    },
    {
      "cell_type": "markdown",
      "metadata": {
        "id": "Go6trp_P6LGa"
      },
      "source": [
        "# **For easy access we placed the data in a github repository**\n",
        "### **here we import the data as a pandas dataframe**"
      ]
    },
    {
      "cell_type": "code",
      "metadata": {
        "id": "leDTO4-JySJJ"
      },
      "source": [
        "\n",
        "df = pd.read_csv(\"https://raw.githubusercontent.com/amazighy/DataAnalysis/master/d-clean.csv\")\n"
      ],
      "execution_count": null,
      "outputs": []
    },
    {
      "cell_type": "markdown",
      "metadata": {
        "id": "LzVu7WpW68X1"
      },
      "source": [
        "### **here read the first few rows of the data**"
      ]
    },
    {
      "cell_type": "code",
      "metadata": {
        "id": "NJ2XXdR4yWvh",
        "colab": {
          "base_uri": "https://localhost:8080/",
          "height": 400
        },
        "outputId": "3cbb1342-9869-4fff-a9d1-a40b421ef682"
      },
      "source": [
        "df.head()"
      ],
      "execution_count": null,
      "outputs": [
        {
          "output_type": "execute_result",
          "data": {
            "text/html": [
              "<div>\n",
              "<style scoped>\n",
              "    .dataframe tbody tr th:only-of-type {\n",
              "        vertical-align: middle;\n",
              "    }\n",
              "\n",
              "    .dataframe tbody tr th {\n",
              "        vertical-align: top;\n",
              "    }\n",
              "\n",
              "    .dataframe thead th {\n",
              "        text-align: right;\n",
              "    }\n",
              "</style>\n",
              "<table border=\"1\" class=\"dataframe\">\n",
              "  <thead>\n",
              "    <tr style=\"text-align: right;\">\n",
              "      <th></th>\n",
              "      <th>cluster</th>\n",
              "      <th>Gender</th>\n",
              "      <th>Age</th>\n",
              "      <th>Ethnicity</th>\n",
              "      <th>Income</th>\n",
              "      <th>Work hours</th>\n",
              "      <th>Health condition</th>\n",
              "      <th>Education</th>\n",
              "      <th>Motivation</th>\n",
              "      <th>Attitude</th>\n",
              "      <th>Intention</th>\n",
              "      <th>Ownership</th>\n",
              "      <th>1</th>\n",
              "      <th>ER</th>\n",
              "      <th>2</th>\n",
              "      <th>ER.1</th>\n",
              "      <th>3</th>\n",
              "      <th>ER.2</th>\n",
              "      <th>4</th>\n",
              "      <th>ER.3</th>\n",
              "      <th>5</th>\n",
              "      <th>ER.4</th>\n",
              "      <th>6</th>\n",
              "      <th>ER.5</th>\n",
              "      <th>7</th>\n",
              "      <th>ER.6</th>\n",
              "      <th>8</th>\n",
              "      <th>ER.7</th>\n",
              "      <th>9</th>\n",
              "      <th>ER.8</th>\n",
              "      <th>10</th>\n",
              "      <th>ER.9</th>\n",
              "      <th>11</th>\n",
              "      <th>ER.10</th>\n",
              "      <th>12</th>\n",
              "      <th>ER.11</th>\n",
              "      <th>13</th>\n",
              "      <th>ER.12</th>\n",
              "      <th>14</th>\n",
              "      <th>ER.13</th>\n",
              "      <th>15</th>\n",
              "      <th>ER.14</th>\n",
              "    </tr>\n",
              "  </thead>\n",
              "  <tbody>\n",
              "    <tr>\n",
              "      <th>0</th>\n",
              "      <td>0</td>\n",
              "      <td>Female</td>\n",
              "      <td>44</td>\n",
              "      <td>Caucasian</td>\n",
              "      <td>150,000-199,999</td>\n",
              "      <td>50+ hrs/week</td>\n",
              "      <td>Good</td>\n",
              "      <td>4-year college degree</td>\n",
              "      <td>0.265623</td>\n",
              "      <td>0.526590</td>\n",
              "      <td>0.507169</td>\n",
              "      <td>0.559363</td>\n",
              "      <td>Phy</td>\n",
              "      <td>0.166667</td>\n",
              "      <td>diet</td>\n",
              "      <td>0.714286</td>\n",
              "      <td>diet</td>\n",
              "      <td>0.428571</td>\n",
              "      <td>diet</td>\n",
              "      <td>0.571429</td>\n",
              "      <td>diet</td>\n",
              "      <td>0.750</td>\n",
              "      <td>diet</td>\n",
              "      <td>0.428571</td>\n",
              "      <td>diet</td>\n",
              "      <td>0.857143</td>\n",
              "      <td>diet</td>\n",
              "      <td>1</td>\n",
              "      <td>diet</td>\n",
              "      <td>1</td>\n",
              "      <td>diet</td>\n",
              "      <td>0.285714</td>\n",
              "      <td>diet</td>\n",
              "      <td>0.571429</td>\n",
              "      <td>diet</td>\n",
              "      <td>0.5</td>\n",
              "      <td>Phy</td>\n",
              "      <td>0</td>\n",
              "      <td>Phy</td>\n",
              "      <td>0.000000</td>\n",
              "      <td>Phy</td>\n",
              "      <td>0.000000</td>\n",
              "    </tr>\n",
              "    <tr>\n",
              "      <th>1</th>\n",
              "      <td>1</td>\n",
              "      <td>Female</td>\n",
              "      <td>37</td>\n",
              "      <td>Asian</td>\n",
              "      <td>100,000-149,999</td>\n",
              "      <td>16-35 hrs/week</td>\n",
              "      <td>Excellent</td>\n",
              "      <td>2-year college degree</td>\n",
              "      <td>0.386128</td>\n",
              "      <td>0.896973</td>\n",
              "      <td>0.736022</td>\n",
              "      <td>0.924759</td>\n",
              "      <td>diet</td>\n",
              "      <td>0.000000</td>\n",
              "      <td>diet</td>\n",
              "      <td>0.428571</td>\n",
              "      <td>diet</td>\n",
              "      <td>1.000000</td>\n",
              "      <td>diet</td>\n",
              "      <td>0.857143</td>\n",
              "      <td>diet</td>\n",
              "      <td>0.875</td>\n",
              "      <td>diet</td>\n",
              "      <td>0.857143</td>\n",
              "      <td>diet</td>\n",
              "      <td>1.000000</td>\n",
              "      <td>diet</td>\n",
              "      <td>1</td>\n",
              "      <td>diet</td>\n",
              "      <td>1</td>\n",
              "      <td>diet</td>\n",
              "      <td>0.857143</td>\n",
              "      <td>diet</td>\n",
              "      <td>0.857143</td>\n",
              "      <td>diet</td>\n",
              "      <td>1.0</td>\n",
              "      <td>diet</td>\n",
              "      <td>1</td>\n",
              "      <td>diet</td>\n",
              "      <td>0.857143</td>\n",
              "      <td>diet</td>\n",
              "      <td>0.428571</td>\n",
              "    </tr>\n",
              "    <tr>\n",
              "      <th>2</th>\n",
              "      <td>2</td>\n",
              "      <td>Female</td>\n",
              "      <td>60</td>\n",
              "      <td>African American</td>\n",
              "      <td>0-24,999</td>\n",
              "      <td>50+ hrs/week</td>\n",
              "      <td>Excellent</td>\n",
              "      <td>2-year college degree</td>\n",
              "      <td>0.147511</td>\n",
              "      <td>0.593162</td>\n",
              "      <td>0.574159</td>\n",
              "      <td>0.928628</td>\n",
              "      <td>diet</td>\n",
              "      <td>0.000000</td>\n",
              "      <td>Phy</td>\n",
              "      <td>0.142857</td>\n",
              "      <td>Phy</td>\n",
              "      <td>0.000000</td>\n",
              "      <td>Phy</td>\n",
              "      <td>0.571429</td>\n",
              "      <td>Phy</td>\n",
              "      <td>0.000</td>\n",
              "      <td>Phy</td>\n",
              "      <td>0.000000</td>\n",
              "      <td>Phy</td>\n",
              "      <td>0.000000</td>\n",
              "      <td>Phy</td>\n",
              "      <td>0</td>\n",
              "      <td>Phy</td>\n",
              "      <td>0</td>\n",
              "      <td>Phy</td>\n",
              "      <td>0.000000</td>\n",
              "      <td>Phy</td>\n",
              "      <td>0.000000</td>\n",
              "      <td>Phy</td>\n",
              "      <td>0.0</td>\n",
              "      <td>Phy</td>\n",
              "      <td>0</td>\n",
              "      <td>Phy</td>\n",
              "      <td>0.000000</td>\n",
              "      <td>Phy</td>\n",
              "      <td>0.000000</td>\n",
              "    </tr>\n",
              "    <tr>\n",
              "      <th>3</th>\n",
              "      <td>0</td>\n",
              "      <td>Female</td>\n",
              "      <td>62</td>\n",
              "      <td>African American</td>\n",
              "      <td>0-24,999</td>\n",
              "      <td>1-15 hrs/week</td>\n",
              "      <td>Fair</td>\n",
              "      <td>Some college, but no degree</td>\n",
              "      <td>0.492041</td>\n",
              "      <td>0.586625</td>\n",
              "      <td>0.645084</td>\n",
              "      <td>0.799052</td>\n",
              "      <td>Phy</td>\n",
              "      <td>0.000000</td>\n",
              "      <td>Phy</td>\n",
              "      <td>0.000000</td>\n",
              "      <td>Phy</td>\n",
              "      <td>0.467000</td>\n",
              "      <td>Phy</td>\n",
              "      <td>0.571429</td>\n",
              "      <td>Phy</td>\n",
              "      <td>0.000</td>\n",
              "      <td>Phy</td>\n",
              "      <td>0.000000</td>\n",
              "      <td>Phy</td>\n",
              "      <td>0.000000</td>\n",
              "      <td>Phy</td>\n",
              "      <td>0</td>\n",
              "      <td>Phy</td>\n",
              "      <td>0</td>\n",
              "      <td>Phy</td>\n",
              "      <td>0.000000</td>\n",
              "      <td>Phy</td>\n",
              "      <td>0.000000</td>\n",
              "      <td>Phy</td>\n",
              "      <td>0.0</td>\n",
              "      <td>Phy</td>\n",
              "      <td>0</td>\n",
              "      <td>Phy</td>\n",
              "      <td>0.000000</td>\n",
              "      <td>Phy</td>\n",
              "      <td>0.000000</td>\n",
              "    </tr>\n",
              "    <tr>\n",
              "      <th>4</th>\n",
              "      <td>1</td>\n",
              "      <td>Male</td>\n",
              "      <td>40</td>\n",
              "      <td>HIspanic</td>\n",
              "      <td>0-24,999</td>\n",
              "      <td>50+ hrs/week</td>\n",
              "      <td>Fair</td>\n",
              "      <td>4-year college degree</td>\n",
              "      <td>0.689156</td>\n",
              "      <td>0.647716</td>\n",
              "      <td>0.738081</td>\n",
              "      <td>0.975890</td>\n",
              "      <td>diet</td>\n",
              "      <td>0.000000</td>\n",
              "      <td>diet</td>\n",
              "      <td>0.000000</td>\n",
              "      <td>diet</td>\n",
              "      <td>0.285714</td>\n",
              "      <td>diet</td>\n",
              "      <td>0.000000</td>\n",
              "      <td>diet</td>\n",
              "      <td>0.125</td>\n",
              "      <td>diet</td>\n",
              "      <td>0.428571</td>\n",
              "      <td>diet</td>\n",
              "      <td>0.000000</td>\n",
              "      <td>diet</td>\n",
              "      <td>0</td>\n",
              "      <td>diet</td>\n",
              "      <td>0</td>\n",
              "      <td>diet</td>\n",
              "      <td>0.000000</td>\n",
              "      <td>diet</td>\n",
              "      <td>0.000000</td>\n",
              "      <td>diet</td>\n",
              "      <td>0.0</td>\n",
              "      <td>diet</td>\n",
              "      <td>0</td>\n",
              "      <td>diet</td>\n",
              "      <td>0.000000</td>\n",
              "      <td>diet</td>\n",
              "      <td>0.000000</td>\n",
              "    </tr>\n",
              "  </tbody>\n",
              "</table>\n",
              "</div>"
            ],
            "text/plain": [
              "   cluster  Gender  Age         Ethnicity  ...    14     ER.13    15     ER.14\n",
              "0        0  Female   44         Caucasian  ...   Phy  0.000000   Phy  0.000000\n",
              "1        1  Female   37             Asian  ...  diet  0.857143  diet  0.428571\n",
              "2        2  Female   60  African American  ...   Phy  0.000000   Phy  0.000000\n",
              "3        0  Female   62  African American  ...   Phy  0.000000   Phy  0.000000\n",
              "4        1    Male   40          HIspanic  ...  diet  0.000000  diet  0.000000\n",
              "\n",
              "[5 rows x 42 columns]"
            ]
          },
          "metadata": {
            "tags": []
          },
          "execution_count": 4
        }
      ]
    },
    {
      "cell_type": "markdown",
      "metadata": {
        "id": "RJXrzODjSC_9"
      },
      "source": [
        "To develop a probabilistic model we first convert the continuous variables into categorical to calculate the probabilities of persons that belong to similar categories.\n",
        "\n",
        "In our data, we have **Age** , **Motivation, Attitude, Intention, Ownership.** I discretize these variables into 4 equal-sized buckets based on the following intervals: **[.0 - .25], [.25 - .50], [.50 - .75], [75 - .100].**\n",
        "\n",
        "For example,\n",
        "\n",
        "- a person with a motivation of **0.27455 and** another person with the motivation of **0.4677888** will belong to the same category **[.25 - .50].**\n",
        "- Similarly, people of ages **53 and 73** will belong to the same category **[50 - 75].**"
      ]
    },
    {
      "cell_type": "code",
      "metadata": {
        "id": "i6bN-oatNIf7"
      },
      "source": [
        "df['Motivation']=(pd.cut(x=df['Motivation'], bins=[0,0.25, 0.5, 0.75,1])).astype('str')\n",
        "df['Attitude']=(pd.cut(x=df['Attitude'], bins=[0,0.25, 0.5, 0.75,1])).astype('str')\n",
        "df['Intention']=(pd.cut(x=df['Intention'], bins=[0,0.25, 0.5, 0.75,1])).astype('str')\n",
        "df['Ownership']=(pd.cut(x=df['Ownership'], bins=[0,0.25, 0.5, 0.75,1])).astype('str')\n",
        "df['Age']=(pd.cut(x=df['Age'], bins=[0,25, 50, 75,100])).astype('str')"
      ],
      "execution_count": null,
      "outputs": []
    },
    {
      "cell_type": "code",
      "metadata": {
        "id": "3NPKxP9NaGtq"
      },
      "source": [
        ""
      ],
      "execution_count": null,
      "outputs": []
    },
    {
      "cell_type": "markdown",
      "metadata": {
        "id": "wHPx7ozf7MYR"
      },
      "source": [
        "#### **here we transform the data types into numeric for further processing**"
      ]
    },
    {
      "cell_type": "code",
      "metadata": {
        "id": "J3Vre8HLzvoM"
      },
      "source": [
        "# changing the data types of the ERs\n",
        "for col in df.columns:\n",
        "    if 'ER' in col:\n",
        "        df[col] = pd.to_numeric(df[col], errors='coerce')"
      ],
      "execution_count": null,
      "outputs": []
    },
    {
      "cell_type": "markdown",
      "metadata": {
        "id": "9XtBKi1R8BsQ"
      },
      "source": [
        "# **Here we add 4 new columns (features) to the data to capture:**\n",
        "\n",
        "\n",
        "1.  **avg_diet** to capture the **average engagement** ratio when recommended **diet**\n",
        "2.  **avg_Pyh** to capture the **average engagement** ratio when recommended **Phy**\n",
        "3.  **num_diet** to capture the number of times **diet** was recommended\n",
        "4.  **num_Pyh** to capture the number of times **Phy** was recommended\n"
      ]
    },
    {
      "cell_type": "code",
      "metadata": {
        "id": "HJHJ2b2l3EOx"
      },
      "source": [
        "df['avg_diet']=np.nan\n",
        "df['avg_Pyh']=np.nan\n",
        "df['num_diet']=0\n",
        "df['num_Pyh']=0"
      ],
      "execution_count": null,
      "outputs": []
    },
    {
      "cell_type": "code",
      "metadata": {
        "id": "sr26CvxU-vIW"
      },
      "source": [
        "# this piese of code calculates the average response of all the participents \n",
        "# to physical activity and diet. it is not much but it certainly adds a lot of informarion.\n",
        "# we could capture how people react to diet and physical activity. some people might \n",
        "# hate diet and new columns 'avg_diet' would tell us that.Similarly, if peole hate physical activity \n",
        "# the avg_Pyh would tell us. \n",
        "for idx in df.iloc[:, 12:43].index:\n",
        "    PersonData=df.iloc[:, 12:43].loc[idx, :].values.tolist()\n",
        "    keys = []\n",
        "    values =[]\n",
        "    for i, element in enumerate(PersonData):\n",
        "        if i%2 ==0:\n",
        "            keys.append(element)\n",
        "        else:\n",
        "            values.append(element)\n",
        "    tuples=list(zip(keys,values))\n",
        "    Phy=[]\n",
        "    diet =[]\n",
        "    for p in tuples:\n",
        "        if p[0]=='Phy':\n",
        "             Phy.append(p[1])\n",
        "        elif p[0]=='diet':\n",
        "            diet.append(p[1])\n",
        "    \n",
        "            \n",
        "    if len(diet)==0:\n",
        "        df.loc[idx,'avg_diet']=np.nan\n",
        "    else:\n",
        "        avg_diet=sum(diet)/len(diet)\n",
        "        df.loc[idx,'avg_diet'] = avg_diet\n",
        "        df.loc[idx,'num_diet'] = len(diet)\n",
        "        \n",
        "    if len(Phy)==0:\n",
        "        df.at[idx, 'avg_Pyh']=np.nan\n",
        "    else:\n",
        "        avg_Pyh=sum(Phy)/len(Phy)\n",
        "        df.at[idx, 'avg_Pyh']=avg_Pyh\n",
        "        df.loc[idx,'num_Pyh'] = len(Phy)"
      ],
      "execution_count": null,
      "outputs": []
    },
    {
      "cell_type": "code",
      "metadata": {
        "id": "EjxA3pYZm4Nz",
        "colab": {
          "base_uri": "https://localhost:8080/",
          "height": 619
        },
        "outputId": "b741092a-055f-4d5d-d363-a3ec7c4718f7"
      },
      "source": [
        "df"
      ],
      "execution_count": null,
      "outputs": [
        {
          "output_type": "execute_result",
          "data": {
            "text/html": [
              "<div>\n",
              "<style scoped>\n",
              "    .dataframe tbody tr th:only-of-type {\n",
              "        vertical-align: middle;\n",
              "    }\n",
              "\n",
              "    .dataframe tbody tr th {\n",
              "        vertical-align: top;\n",
              "    }\n",
              "\n",
              "    .dataframe thead th {\n",
              "        text-align: right;\n",
              "    }\n",
              "</style>\n",
              "<table border=\"1\" class=\"dataframe\">\n",
              "  <thead>\n",
              "    <tr style=\"text-align: right;\">\n",
              "      <th></th>\n",
              "      <th>cluster</th>\n",
              "      <th>Gender</th>\n",
              "      <th>Age</th>\n",
              "      <th>Ethnicity</th>\n",
              "      <th>Income</th>\n",
              "      <th>Work hours</th>\n",
              "      <th>Health condition</th>\n",
              "      <th>Education</th>\n",
              "      <th>Motivation</th>\n",
              "      <th>Attitude</th>\n",
              "      <th>Intention</th>\n",
              "      <th>Ownership</th>\n",
              "      <th>1</th>\n",
              "      <th>ER</th>\n",
              "      <th>2</th>\n",
              "      <th>ER.1</th>\n",
              "      <th>3</th>\n",
              "      <th>ER.2</th>\n",
              "      <th>4</th>\n",
              "      <th>ER.3</th>\n",
              "      <th>5</th>\n",
              "      <th>ER.4</th>\n",
              "      <th>6</th>\n",
              "      <th>ER.5</th>\n",
              "      <th>7</th>\n",
              "      <th>ER.6</th>\n",
              "      <th>8</th>\n",
              "      <th>ER.7</th>\n",
              "      <th>9</th>\n",
              "      <th>ER.8</th>\n",
              "      <th>10</th>\n",
              "      <th>ER.9</th>\n",
              "      <th>11</th>\n",
              "      <th>ER.10</th>\n",
              "      <th>12</th>\n",
              "      <th>ER.11</th>\n",
              "      <th>13</th>\n",
              "      <th>ER.12</th>\n",
              "      <th>14</th>\n",
              "      <th>ER.13</th>\n",
              "      <th>15</th>\n",
              "      <th>ER.14</th>\n",
              "      <th>avg_diet</th>\n",
              "      <th>avg_Pyh</th>\n",
              "      <th>num_diet</th>\n",
              "      <th>num_Pyh</th>\n",
              "    </tr>\n",
              "  </thead>\n",
              "  <tbody>\n",
              "    <tr>\n",
              "      <th>0</th>\n",
              "      <td>0</td>\n",
              "      <td>Female</td>\n",
              "      <td>(25, 50]</td>\n",
              "      <td>Caucasian</td>\n",
              "      <td>150,000-199,999</td>\n",
              "      <td>50+ hrs/week</td>\n",
              "      <td>Good</td>\n",
              "      <td>4-year college degree</td>\n",
              "      <td>(0.25, 0.5]</td>\n",
              "      <td>(0.5, 0.75]</td>\n",
              "      <td>(0.5, 0.75]</td>\n",
              "      <td>(0.5, 0.75]</td>\n",
              "      <td>Phy</td>\n",
              "      <td>0.166667</td>\n",
              "      <td>diet</td>\n",
              "      <td>0.714286</td>\n",
              "      <td>diet</td>\n",
              "      <td>0.428571</td>\n",
              "      <td>diet</td>\n",
              "      <td>0.571429</td>\n",
              "      <td>diet</td>\n",
              "      <td>0.750</td>\n",
              "      <td>diet</td>\n",
              "      <td>0.428571</td>\n",
              "      <td>diet</td>\n",
              "      <td>0.857143</td>\n",
              "      <td>diet</td>\n",
              "      <td>1</td>\n",
              "      <td>diet</td>\n",
              "      <td>1</td>\n",
              "      <td>diet</td>\n",
              "      <td>0.285714</td>\n",
              "      <td>diet</td>\n",
              "      <td>0.571429</td>\n",
              "      <td>diet</td>\n",
              "      <td>0.5</td>\n",
              "      <td>Phy</td>\n",
              "      <td>0</td>\n",
              "      <td>Phy</td>\n",
              "      <td>0.000000</td>\n",
              "      <td>Phy</td>\n",
              "      <td>0.000000</td>\n",
              "      <td>0.646104</td>\n",
              "      <td>0.041667</td>\n",
              "      <td>11</td>\n",
              "      <td>4</td>\n",
              "    </tr>\n",
              "    <tr>\n",
              "      <th>1</th>\n",
              "      <td>1</td>\n",
              "      <td>Female</td>\n",
              "      <td>(25, 50]</td>\n",
              "      <td>Asian</td>\n",
              "      <td>100,000-149,999</td>\n",
              "      <td>16-35 hrs/week</td>\n",
              "      <td>Excellent</td>\n",
              "      <td>2-year college degree</td>\n",
              "      <td>(0.25, 0.5]</td>\n",
              "      <td>(0.75, 1.0]</td>\n",
              "      <td>(0.5, 0.75]</td>\n",
              "      <td>(0.75, 1.0]</td>\n",
              "      <td>diet</td>\n",
              "      <td>0.000000</td>\n",
              "      <td>diet</td>\n",
              "      <td>0.428571</td>\n",
              "      <td>diet</td>\n",
              "      <td>1.000000</td>\n",
              "      <td>diet</td>\n",
              "      <td>0.857143</td>\n",
              "      <td>diet</td>\n",
              "      <td>0.875</td>\n",
              "      <td>diet</td>\n",
              "      <td>0.857143</td>\n",
              "      <td>diet</td>\n",
              "      <td>1.000000</td>\n",
              "      <td>diet</td>\n",
              "      <td>1</td>\n",
              "      <td>diet</td>\n",
              "      <td>1</td>\n",
              "      <td>diet</td>\n",
              "      <td>0.857143</td>\n",
              "      <td>diet</td>\n",
              "      <td>0.857143</td>\n",
              "      <td>diet</td>\n",
              "      <td>1.0</td>\n",
              "      <td>diet</td>\n",
              "      <td>1</td>\n",
              "      <td>diet</td>\n",
              "      <td>0.857143</td>\n",
              "      <td>diet</td>\n",
              "      <td>0.428571</td>\n",
              "      <td>0.801190</td>\n",
              "      <td>NaN</td>\n",
              "      <td>15</td>\n",
              "      <td>0</td>\n",
              "    </tr>\n",
              "    <tr>\n",
              "      <th>2</th>\n",
              "      <td>2</td>\n",
              "      <td>Female</td>\n",
              "      <td>(50, 75]</td>\n",
              "      <td>African American</td>\n",
              "      <td>0-24,999</td>\n",
              "      <td>50+ hrs/week</td>\n",
              "      <td>Excellent</td>\n",
              "      <td>2-year college degree</td>\n",
              "      <td>(0.0, 0.25]</td>\n",
              "      <td>(0.5, 0.75]</td>\n",
              "      <td>(0.5, 0.75]</td>\n",
              "      <td>(0.75, 1.0]</td>\n",
              "      <td>diet</td>\n",
              "      <td>0.000000</td>\n",
              "      <td>Phy</td>\n",
              "      <td>0.142857</td>\n",
              "      <td>Phy</td>\n",
              "      <td>0.000000</td>\n",
              "      <td>Phy</td>\n",
              "      <td>0.571429</td>\n",
              "      <td>Phy</td>\n",
              "      <td>0.000</td>\n",
              "      <td>Phy</td>\n",
              "      <td>0.000000</td>\n",
              "      <td>Phy</td>\n",
              "      <td>0.000000</td>\n",
              "      <td>Phy</td>\n",
              "      <td>0</td>\n",
              "      <td>Phy</td>\n",
              "      <td>0</td>\n",
              "      <td>Phy</td>\n",
              "      <td>0.000000</td>\n",
              "      <td>Phy</td>\n",
              "      <td>0.000000</td>\n",
              "      <td>Phy</td>\n",
              "      <td>0.0</td>\n",
              "      <td>Phy</td>\n",
              "      <td>0</td>\n",
              "      <td>Phy</td>\n",
              "      <td>0.000000</td>\n",
              "      <td>Phy</td>\n",
              "      <td>0.000000</td>\n",
              "      <td>0.000000</td>\n",
              "      <td>0.051020</td>\n",
              "      <td>1</td>\n",
              "      <td>14</td>\n",
              "    </tr>\n",
              "    <tr>\n",
              "      <th>3</th>\n",
              "      <td>0</td>\n",
              "      <td>Female</td>\n",
              "      <td>(50, 75]</td>\n",
              "      <td>African American</td>\n",
              "      <td>0-24,999</td>\n",
              "      <td>1-15 hrs/week</td>\n",
              "      <td>Fair</td>\n",
              "      <td>Some college, but no degree</td>\n",
              "      <td>(0.25, 0.5]</td>\n",
              "      <td>(0.5, 0.75]</td>\n",
              "      <td>(0.5, 0.75]</td>\n",
              "      <td>(0.75, 1.0]</td>\n",
              "      <td>Phy</td>\n",
              "      <td>0.000000</td>\n",
              "      <td>Phy</td>\n",
              "      <td>0.000000</td>\n",
              "      <td>Phy</td>\n",
              "      <td>0.467000</td>\n",
              "      <td>Phy</td>\n",
              "      <td>0.571429</td>\n",
              "      <td>Phy</td>\n",
              "      <td>0.000</td>\n",
              "      <td>Phy</td>\n",
              "      <td>0.000000</td>\n",
              "      <td>Phy</td>\n",
              "      <td>0.000000</td>\n",
              "      <td>Phy</td>\n",
              "      <td>0</td>\n",
              "      <td>Phy</td>\n",
              "      <td>0</td>\n",
              "      <td>Phy</td>\n",
              "      <td>0.000000</td>\n",
              "      <td>Phy</td>\n",
              "      <td>0.000000</td>\n",
              "      <td>Phy</td>\n",
              "      <td>0.0</td>\n",
              "      <td>Phy</td>\n",
              "      <td>0</td>\n",
              "      <td>Phy</td>\n",
              "      <td>0.000000</td>\n",
              "      <td>Phy</td>\n",
              "      <td>0.000000</td>\n",
              "      <td>NaN</td>\n",
              "      <td>0.069229</td>\n",
              "      <td>0</td>\n",
              "      <td>15</td>\n",
              "    </tr>\n",
              "    <tr>\n",
              "      <th>4</th>\n",
              "      <td>1</td>\n",
              "      <td>Male</td>\n",
              "      <td>(25, 50]</td>\n",
              "      <td>HIspanic</td>\n",
              "      <td>0-24,999</td>\n",
              "      <td>50+ hrs/week</td>\n",
              "      <td>Fair</td>\n",
              "      <td>4-year college degree</td>\n",
              "      <td>(0.5, 0.75]</td>\n",
              "      <td>(0.5, 0.75]</td>\n",
              "      <td>(0.5, 0.75]</td>\n",
              "      <td>(0.75, 1.0]</td>\n",
              "      <td>diet</td>\n",
              "      <td>0.000000</td>\n",
              "      <td>diet</td>\n",
              "      <td>0.000000</td>\n",
              "      <td>diet</td>\n",
              "      <td>0.285714</td>\n",
              "      <td>diet</td>\n",
              "      <td>0.000000</td>\n",
              "      <td>diet</td>\n",
              "      <td>0.125</td>\n",
              "      <td>diet</td>\n",
              "      <td>0.428571</td>\n",
              "      <td>diet</td>\n",
              "      <td>0.000000</td>\n",
              "      <td>diet</td>\n",
              "      <td>0</td>\n",
              "      <td>diet</td>\n",
              "      <td>0</td>\n",
              "      <td>diet</td>\n",
              "      <td>0.000000</td>\n",
              "      <td>diet</td>\n",
              "      <td>0.000000</td>\n",
              "      <td>diet</td>\n",
              "      <td>0.0</td>\n",
              "      <td>diet</td>\n",
              "      <td>0</td>\n",
              "      <td>diet</td>\n",
              "      <td>0.000000</td>\n",
              "      <td>diet</td>\n",
              "      <td>0.000000</td>\n",
              "      <td>0.055952</td>\n",
              "      <td>NaN</td>\n",
              "      <td>15</td>\n",
              "      <td>0</td>\n",
              "    </tr>\n",
              "    <tr>\n",
              "      <th>5</th>\n",
              "      <td>2</td>\n",
              "      <td>Male</td>\n",
              "      <td>(25, 50]</td>\n",
              "      <td>Asian</td>\n",
              "      <td>100,000-149,999</td>\n",
              "      <td>36-50 hrs/week</td>\n",
              "      <td>Good</td>\n",
              "      <td>Some college, but no degree</td>\n",
              "      <td>(0.5, 0.75]</td>\n",
              "      <td>(0.5, 0.75]</td>\n",
              "      <td>(0.5, 0.75]</td>\n",
              "      <td>(0.5, 0.75]</td>\n",
              "      <td>Phy</td>\n",
              "      <td>0.000000</td>\n",
              "      <td>diet</td>\n",
              "      <td>0.000000</td>\n",
              "      <td>diet</td>\n",
              "      <td>0.000000</td>\n",
              "      <td>diet</td>\n",
              "      <td>0.000000</td>\n",
              "      <td>diet</td>\n",
              "      <td>0.000</td>\n",
              "      <td>Phy</td>\n",
              "      <td>0.000000</td>\n",
              "      <td>Phy</td>\n",
              "      <td>0.000000</td>\n",
              "      <td>Phy</td>\n",
              "      <td>0</td>\n",
              "      <td>Phy</td>\n",
              "      <td>0</td>\n",
              "      <td>Phy</td>\n",
              "      <td>0.000000</td>\n",
              "      <td>diet</td>\n",
              "      <td>0.000000</td>\n",
              "      <td>diet</td>\n",
              "      <td>0.0</td>\n",
              "      <td>Phy</td>\n",
              "      <td>0</td>\n",
              "      <td>Phy</td>\n",
              "      <td>0.000000</td>\n",
              "      <td>Phy</td>\n",
              "      <td>0.000000</td>\n",
              "      <td>0.000000</td>\n",
              "      <td>0.000000</td>\n",
              "      <td>6</td>\n",
              "      <td>9</td>\n",
              "    </tr>\n",
              "    <tr>\n",
              "      <th>6</th>\n",
              "      <td>9</td>\n",
              "      <td>Female</td>\n",
              "      <td>(50, 75]</td>\n",
              "      <td>Indian/ Asian</td>\n",
              "      <td>NaN</td>\n",
              "      <td>NaN</td>\n",
              "      <td>NaN</td>\n",
              "      <td>NaN</td>\n",
              "      <td>nan</td>\n",
              "      <td>nan</td>\n",
              "      <td>nan</td>\n",
              "      <td>nan</td>\n",
              "      <td>Phy</td>\n",
              "      <td>0.000000</td>\n",
              "      <td>diet</td>\n",
              "      <td>0.000000</td>\n",
              "      <td>diet</td>\n",
              "      <td>0.000000</td>\n",
              "      <td>diet</td>\n",
              "      <td>0.000000</td>\n",
              "      <td>diet</td>\n",
              "      <td>0.000</td>\n",
              "      <td>Phy</td>\n",
              "      <td>0.000000</td>\n",
              "      <td>Phy</td>\n",
              "      <td>0.000000</td>\n",
              "      <td>Phy</td>\n",
              "      <td>0</td>\n",
              "      <td>Phy</td>\n",
              "      <td>0</td>\n",
              "      <td>Phy</td>\n",
              "      <td>0.000000</td>\n",
              "      <td>Phy</td>\n",
              "      <td>0.000000</td>\n",
              "      <td>Phy</td>\n",
              "      <td>0.0</td>\n",
              "      <td>Phy</td>\n",
              "      <td>0</td>\n",
              "      <td>Phy</td>\n",
              "      <td>0.000000</td>\n",
              "      <td>Phy</td>\n",
              "      <td>0.000000</td>\n",
              "      <td>0.000000</td>\n",
              "      <td>0.000000</td>\n",
              "      <td>4</td>\n",
              "      <td>11</td>\n",
              "    </tr>\n",
              "    <tr>\n",
              "      <th>7</th>\n",
              "      <td>9</td>\n",
              "      <td>Female</td>\n",
              "      <td>(25, 50]</td>\n",
              "      <td>African American</td>\n",
              "      <td>NaN</td>\n",
              "      <td>NaN</td>\n",
              "      <td>NaN</td>\n",
              "      <td>NaN</td>\n",
              "      <td>nan</td>\n",
              "      <td>nan</td>\n",
              "      <td>nan</td>\n",
              "      <td>nan</td>\n",
              "      <td>Phy</td>\n",
              "      <td>0.166667</td>\n",
              "      <td>diet</td>\n",
              "      <td>0.142857</td>\n",
              "      <td>diet</td>\n",
              "      <td>0.285714</td>\n",
              "      <td>diet</td>\n",
              "      <td>0.285714</td>\n",
              "      <td>diet</td>\n",
              "      <td>0.125</td>\n",
              "      <td>Phy</td>\n",
              "      <td>0.142857</td>\n",
              "      <td>Phy</td>\n",
              "      <td>0.000000</td>\n",
              "      <td>Phy</td>\n",
              "      <td>0</td>\n",
              "      <td>Phy</td>\n",
              "      <td>0</td>\n",
              "      <td>Phy</td>\n",
              "      <td>0.000000</td>\n",
              "      <td>diet</td>\n",
              "      <td>0.000000</td>\n",
              "      <td>diet</td>\n",
              "      <td>0.0</td>\n",
              "      <td>Phy</td>\n",
              "      <td>0</td>\n",
              "      <td>Phy</td>\n",
              "      <td>0.000000</td>\n",
              "      <td>Phy</td>\n",
              "      <td>0.000000</td>\n",
              "      <td>0.139881</td>\n",
              "      <td>0.034392</td>\n",
              "      <td>6</td>\n",
              "      <td>9</td>\n",
              "    </tr>\n",
              "    <tr>\n",
              "      <th>8</th>\n",
              "      <td>1</td>\n",
              "      <td>Male</td>\n",
              "      <td>(75, 100]</td>\n",
              "      <td>Caucasian</td>\n",
              "      <td>25,000-49,000</td>\n",
              "      <td>36-50 hrs/week</td>\n",
              "      <td>Good</td>\n",
              "      <td>2-year college degree</td>\n",
              "      <td>(0.0, 0.25]</td>\n",
              "      <td>(0.75, 1.0]</td>\n",
              "      <td>(0.75, 1.0]</td>\n",
              "      <td>(0.75, 1.0]</td>\n",
              "      <td>Phy</td>\n",
              "      <td>0.000000</td>\n",
              "      <td>diet</td>\n",
              "      <td>0.000000</td>\n",
              "      <td>diet</td>\n",
              "      <td>0.000000</td>\n",
              "      <td>diet</td>\n",
              "      <td>0.000000</td>\n",
              "      <td>diet</td>\n",
              "      <td>0.000</td>\n",
              "      <td>diet</td>\n",
              "      <td>0.000000</td>\n",
              "      <td>diet</td>\n",
              "      <td>0.000000</td>\n",
              "      <td>diet</td>\n",
              "      <td>0</td>\n",
              "      <td>diet</td>\n",
              "      <td>0</td>\n",
              "      <td>diet</td>\n",
              "      <td>0.000000</td>\n",
              "      <td>diet</td>\n",
              "      <td>0.000000</td>\n",
              "      <td>diet</td>\n",
              "      <td>0.0</td>\n",
              "      <td>diet</td>\n",
              "      <td>0</td>\n",
              "      <td>diet</td>\n",
              "      <td>0.000000</td>\n",
              "      <td>diet</td>\n",
              "      <td>0.000000</td>\n",
              "      <td>0.000000</td>\n",
              "      <td>0.000000</td>\n",
              "      <td>14</td>\n",
              "      <td>1</td>\n",
              "    </tr>\n",
              "  </tbody>\n",
              "</table>\n",
              "</div>"
            ],
            "text/plain": [
              "   cluster  Gender        Age  ...   avg_Pyh num_diet num_Pyh\n",
              "0        0  Female   (25, 50]  ...  0.041667       11       4\n",
              "1        1  Female   (25, 50]  ...       NaN       15       0\n",
              "2        2  Female   (50, 75]  ...  0.051020        1      14\n",
              "3        0  Female   (50, 75]  ...  0.069229        0      15\n",
              "4        1    Male   (25, 50]  ...       NaN       15       0\n",
              "5        2    Male   (25, 50]  ...  0.000000        6       9\n",
              "6        9  Female   (50, 75]  ...  0.000000        4      11\n",
              "7        9  Female   (25, 50]  ...  0.034392        6       9\n",
              "8        1    Male  (75, 100]  ...  0.000000       14       1\n",
              "\n",
              "[9 rows x 46 columns]"
            ]
          },
          "metadata": {
            "tags": []
          },
          "execution_count": 9
        }
      ]
    },
    {
      "cell_type": "markdown",
      "metadata": {
        "id": "G-6JOmDtDYkA"
      },
      "source": [
        "### **here we create a list of the features that hold the inormation about participents' characteristics**"
      ]
    },
    {
      "cell_type": "code",
      "metadata": {
        "id": "bwmW22mHYU18"
      },
      "source": [
        "characteristics=[\t\"Gender\",\t\"Age\",\t\"Ethnicity\", \"Income\",\t\"Work hours\",\t\"Health condition\",\t\"Education\",\"Motivation\", \"Attitude\", \"Intention\", \"Ownership\"]"
      ],
      "execution_count": null,
      "outputs": []
    },
    {
      "cell_type": "markdown",
      "metadata": {
        "id": "xJOCziAFe1nt"
      },
      "source": [
        "# **Getting the joint Probabiltiy of Gender:**\n",
        "\n"
      ]
    },
    {
      "cell_type": "code",
      "metadata": {
        "colab": {
          "base_uri": "https://localhost:8080/",
          "height": 136
        },
        "id": "tMX3fBfVewn5",
        "outputId": "632c571c-c2ff-49d7-a1b2-d48ae5b17cc8"
      },
      "source": [
        "d=df.groupby(['Gender'])[[\"num_diet\", \"num_Pyh\"]].sum()\n",
        "d"
      ],
      "execution_count": null,
      "outputs": [
        {
          "output_type": "execute_result",
          "data": {
            "text/html": [
              "<div>\n",
              "<style scoped>\n",
              "    .dataframe tbody tr th:only-of-type {\n",
              "        vertical-align: middle;\n",
              "    }\n",
              "\n",
              "    .dataframe tbody tr th {\n",
              "        vertical-align: top;\n",
              "    }\n",
              "\n",
              "    .dataframe thead th {\n",
              "        text-align: right;\n",
              "    }\n",
              "</style>\n",
              "<table border=\"1\" class=\"dataframe\">\n",
              "  <thead>\n",
              "    <tr style=\"text-align: right;\">\n",
              "      <th></th>\n",
              "      <th>num_diet</th>\n",
              "      <th>num_Pyh</th>\n",
              "    </tr>\n",
              "    <tr>\n",
              "      <th>Gender</th>\n",
              "      <th></th>\n",
              "      <th></th>\n",
              "    </tr>\n",
              "  </thead>\n",
              "  <tbody>\n",
              "    <tr>\n",
              "      <th>Female</th>\n",
              "      <td>37</td>\n",
              "      <td>53</td>\n",
              "    </tr>\n",
              "    <tr>\n",
              "      <th>Male</th>\n",
              "      <td>35</td>\n",
              "      <td>10</td>\n",
              "    </tr>\n",
              "  </tbody>\n",
              "</table>\n",
              "</div>"
            ],
            "text/plain": [
              "        num_diet  num_Pyh\n",
              "Gender                   \n",
              "Female        37       53\n",
              "Male          35       10"
            ]
          },
          "metadata": {
            "tags": []
          },
          "execution_count": 11
        }
      ]
    },
    {
      "cell_type": "markdown",
      "metadata": {
        "id": "-09vCcuLD5_1"
      },
      "source": [
        "The above table show in the first fifteen weeks of which we are given data for the ten observation (ten participants), a person is more likely to be recommended physical activity if they were a female and 3 times more likely to be recommended diet if they were a male. In other words, during the first fifteen weeks of the experiment,\n",
        ">* For a female participant:  the App recommended **diet** 37 times and **Pyh** 53 times \n",
        "\n",
        ">* For a male participant: the App recommended **diet** 37 times and **Phy** 11 times."
      ]
    },
    {
      "cell_type": "markdown",
      "metadata": {
        "id": "W8f7mjK_Ft3u"
      },
      "source": [
        "# **Below we calculate the the marginal probability for Gender**"
      ]
    },
    {
      "cell_type": "code",
      "metadata": {
        "colab": {
          "base_uri": "https://localhost:8080/",
          "height": 166
        },
        "id": "F7t9TGim-J40",
        "outputId": "2de27cfd-8105-425c-ab12-f9650fd6b094"
      },
      "source": [
        "d1=(d.append(d.sum().rename('Total')).assign(Total=lambda d: d.sum(1)))\n",
        "d1"
      ],
      "execution_count": null,
      "outputs": [
        {
          "output_type": "execute_result",
          "data": {
            "text/html": [
              "<div>\n",
              "<style scoped>\n",
              "    .dataframe tbody tr th:only-of-type {\n",
              "        vertical-align: middle;\n",
              "    }\n",
              "\n",
              "    .dataframe tbody tr th {\n",
              "        vertical-align: top;\n",
              "    }\n",
              "\n",
              "    .dataframe thead th {\n",
              "        text-align: right;\n",
              "    }\n",
              "</style>\n",
              "<table border=\"1\" class=\"dataframe\">\n",
              "  <thead>\n",
              "    <tr style=\"text-align: right;\">\n",
              "      <th></th>\n",
              "      <th>num_diet</th>\n",
              "      <th>num_Pyh</th>\n",
              "      <th>Total</th>\n",
              "    </tr>\n",
              "    <tr>\n",
              "      <th>Gender</th>\n",
              "      <th></th>\n",
              "      <th></th>\n",
              "      <th></th>\n",
              "    </tr>\n",
              "  </thead>\n",
              "  <tbody>\n",
              "    <tr>\n",
              "      <th>Female</th>\n",
              "      <td>37</td>\n",
              "      <td>53</td>\n",
              "      <td>90</td>\n",
              "    </tr>\n",
              "    <tr>\n",
              "      <th>Male</th>\n",
              "      <td>35</td>\n",
              "      <td>10</td>\n",
              "      <td>45</td>\n",
              "    </tr>\n",
              "    <tr>\n",
              "      <th>Total</th>\n",
              "      <td>72</td>\n",
              "      <td>63</td>\n",
              "      <td>135</td>\n",
              "    </tr>\n",
              "  </tbody>\n",
              "</table>\n",
              "</div>"
            ],
            "text/plain": [
              "        num_diet  num_Pyh  Total\n",
              "Gender                          \n",
              "Female        37       53     90\n",
              "Male          35       10     45\n",
              "Total         72       63    135"
            ]
          },
          "metadata": {
            "tags": []
          },
          "execution_count": 12
        }
      ]
    },
    {
      "cell_type": "markdown",
      "metadata": {
        "id": "P346fX2K-gAj"
      },
      "source": [
        "## **We turn the above table into the Probability distribution**"
      ]
    },
    {
      "cell_type": "code",
      "metadata": {
        "colab": {
          "base_uri": "https://localhost:8080/",
          "height": 166
        },
        "id": "xcfiLmnb-Q_k",
        "outputId": "f93153b5-4539-4068-b928-f6c4f4168cd3"
      },
      "source": [
        "d1=(d.append(d.sum().rename('Total')).assign(Total=lambda d: d.sum(1))/d.sum().sum()).round(3)\n",
        "d1"
      ],
      "execution_count": null,
      "outputs": [
        {
          "output_type": "execute_result",
          "data": {
            "text/html": [
              "<div>\n",
              "<style scoped>\n",
              "    .dataframe tbody tr th:only-of-type {\n",
              "        vertical-align: middle;\n",
              "    }\n",
              "\n",
              "    .dataframe tbody tr th {\n",
              "        vertical-align: top;\n",
              "    }\n",
              "\n",
              "    .dataframe thead th {\n",
              "        text-align: right;\n",
              "    }\n",
              "</style>\n",
              "<table border=\"1\" class=\"dataframe\">\n",
              "  <thead>\n",
              "    <tr style=\"text-align: right;\">\n",
              "      <th></th>\n",
              "      <th>num_diet</th>\n",
              "      <th>num_Pyh</th>\n",
              "      <th>Total</th>\n",
              "    </tr>\n",
              "    <tr>\n",
              "      <th>Gender</th>\n",
              "      <th></th>\n",
              "      <th></th>\n",
              "      <th></th>\n",
              "    </tr>\n",
              "  </thead>\n",
              "  <tbody>\n",
              "    <tr>\n",
              "      <th>Female</th>\n",
              "      <td>0.274</td>\n",
              "      <td>0.393</td>\n",
              "      <td>0.667</td>\n",
              "    </tr>\n",
              "    <tr>\n",
              "      <th>Male</th>\n",
              "      <td>0.259</td>\n",
              "      <td>0.074</td>\n",
              "      <td>0.333</td>\n",
              "    </tr>\n",
              "    <tr>\n",
              "      <th>Total</th>\n",
              "      <td>0.533</td>\n",
              "      <td>0.467</td>\n",
              "      <td>1.000</td>\n",
              "    </tr>\n",
              "  </tbody>\n",
              "</table>\n",
              "</div>"
            ],
            "text/plain": [
              "        num_diet  num_Pyh  Total\n",
              "Gender                          \n",
              "Female     0.274    0.393  0.667\n",
              "Male       0.259    0.074  0.333\n",
              "Total      0.533    0.467  1.000"
            ]
          },
          "metadata": {
            "tags": []
          },
          "execution_count": 13
        }
      ]
    },
    {
      "cell_type": "markdown",
      "metadata": {
        "id": "pivQmdlndGJd"
      },
      "source": [
        ""
      ]
    },
    {
      "cell_type": "markdown",
      "metadata": {
        "id": "zlsZ3KpqGyo8"
      },
      "source": [
        "## **The program Below get the probability distribution of all of the characteristics.**\n",
        "Below we put all the above steps together into one program to calculate the probability distribution for all the characteristics "
      ]
    },
    {
      "cell_type": "code",
      "metadata": {
        "colab": {
          "base_uri": "https://localhost:8080/"
        },
        "id": "G3d33H4drVdj",
        "outputId": "8b0ecc36-5589-4382-8dd1-e1238ab55c13"
      },
      "source": [
        "for c in characteristics:\n",
        "  d_p=df.groupby([c])[[\"num_diet\", \"num_Pyh\"]].sum()\n",
        "  conditional=(d_p.append(d_p.sum().rename('Total')).assign(Total=lambda d: d.sum(1))/d_p.sum().sum()).round(3)\n",
        "  print(\"\")\n",
        "  print(\"_________________________________________________\")\n",
        "  print('       The probability distrubution of ','\\033[1m' +c+ '\\033[0m','      ')\n",
        "  print(\"=================================================\")\n",
        "  print(conditional)"
      ],
      "execution_count": null,
      "outputs": [
        {
          "output_type": "stream",
          "text": [
            "\n",
            "_________________________________________________\n",
            "       The probability distrubution of  \u001b[1mGender\u001b[0m       \n",
            "=================================================\n",
            "        num_diet  num_Pyh  Total\n",
            "Gender                          \n",
            "Female     0.274    0.393  0.667\n",
            "Male       0.259    0.074  0.333\n",
            "Total      0.533    0.467  1.000\n",
            "\n",
            "_________________________________________________\n",
            "       The probability distrubution of  \u001b[1mAge\u001b[0m       \n",
            "=================================================\n",
            "           num_diet  num_Pyh  Total\n",
            "Age                                \n",
            "(25, 50]      0.393    0.163  0.556\n",
            "(50, 75]      0.037    0.296  0.333\n",
            "(75, 100]     0.104    0.007  0.111\n",
            "Total         0.533    0.467  1.000\n",
            "\n",
            "_________________________________________________\n",
            "       The probability distrubution of  \u001b[1mEthnicity\u001b[0m       \n",
            "=================================================\n",
            "                  num_diet  num_Pyh  Total\n",
            "Ethnicity                                 \n",
            "African American     0.052    0.281  0.333\n",
            "Asian                0.156    0.067  0.222\n",
            "Caucasian            0.185    0.037  0.222\n",
            "HIspanic             0.111    0.000  0.111\n",
            "Indian/ Asian        0.030    0.081  0.111\n",
            "Total                0.533    0.467  1.000\n",
            "\n",
            "_________________________________________________\n",
            "       The probability distrubution of  \u001b[1mIncome\u001b[0m       \n",
            "=================================================\n",
            "                 num_diet  num_Pyh  Total\n",
            "Income                                   \n",
            "0-24,999            0.152    0.276  0.429\n",
            "100,000-149,999     0.200    0.086  0.286\n",
            "150,000-199,999     0.105    0.038  0.143\n",
            "25,000-49,000       0.133    0.010  0.143\n",
            "Total               0.590    0.410  1.000\n",
            "\n",
            "_________________________________________________\n",
            "       The probability distrubution of  \u001b[1mWork hours\u001b[0m       \n",
            "=================================================\n",
            "                num_diet  num_Pyh  Total\n",
            "Work hours                              \n",
            "1-15 hrs/week      0.000    0.143  0.143\n",
            "16-35 hrs/week     0.143    0.000  0.143\n",
            "36-50 hrs/week     0.190    0.095  0.286\n",
            "50+ hrs/week       0.257    0.171  0.429\n",
            "Total              0.590    0.410  1.000\n",
            "\n",
            "_________________________________________________\n",
            "       The probability distrubution of  \u001b[1mHealth condition\u001b[0m       \n",
            "=================================================\n",
            "                  num_diet  num_Pyh  Total\n",
            "Health condition                          \n",
            "Excellent            0.152    0.133  0.286\n",
            "Fair                 0.143    0.143  0.286\n",
            "Good                 0.295    0.133  0.429\n",
            "Total                0.590    0.410  1.000\n",
            "\n",
            "_________________________________________________\n",
            "       The probability distrubution of  \u001b[1mEducation\u001b[0m       \n",
            "=================================================\n",
            "                             num_diet  num_Pyh  Total\n",
            "Education                                            \n",
            "2-year college degree           0.286    0.143  0.429\n",
            "4-year college degree           0.248    0.038  0.286\n",
            "Some college, but no degree     0.057    0.229  0.286\n",
            "Total                           0.590    0.410  1.000\n",
            "\n",
            "_________________________________________________\n",
            "       The probability distrubution of  \u001b[1mMotivation\u001b[0m       \n",
            "=================================================\n",
            "             num_diet  num_Pyh  Total\n",
            "Motivation                           \n",
            "(0.0, 0.25]     0.111    0.111  0.222\n",
            "(0.25, 0.5]     0.193    0.141  0.333\n",
            "(0.5, 0.75]     0.156    0.067  0.222\n",
            "nan             0.074    0.148  0.222\n",
            "Total           0.533    0.467  1.000\n",
            "\n",
            "_________________________________________________\n",
            "       The probability distrubution of  \u001b[1mAttitude\u001b[0m       \n",
            "=================================================\n",
            "             num_diet  num_Pyh  Total\n",
            "Attitude                             \n",
            "(0.5, 0.75]     0.244    0.311  0.556\n",
            "(0.75, 1.0]     0.215    0.007  0.222\n",
            "nan             0.074    0.148  0.222\n",
            "Total           0.533    0.467  1.000\n",
            "\n",
            "_________________________________________________\n",
            "       The probability distrubution of  \u001b[1mIntention\u001b[0m       \n",
            "=================================================\n",
            "             num_diet  num_Pyh  Total\n",
            "Intention                            \n",
            "(0.5, 0.75]     0.356    0.311  0.667\n",
            "(0.75, 1.0]     0.104    0.007  0.111\n",
            "nan             0.074    0.148  0.222\n",
            "Total           0.533    0.467  1.000\n",
            "\n",
            "_________________________________________________\n",
            "       The probability distrubution of  \u001b[1mOwnership\u001b[0m       \n",
            "=================================================\n",
            "             num_diet  num_Pyh  Total\n",
            "Ownership                            \n",
            "(0.5, 0.75]     0.126    0.096  0.222\n",
            "(0.75, 1.0]     0.333    0.222  0.556\n",
            "nan             0.074    0.148  0.222\n",
            "Total           0.533    0.467  1.000\n"
          ],
          "name": "stdout"
        }
      ]
    },
    {
      "cell_type": "markdown",
      "metadata": {
        "id": "Lzkb3tNGHIWr"
      },
      "source": [
        "#### **Below I wrote a Program that take some person's charactristics as a list of varialbles and it returns the App's prediction for that person.**\n",
        "To illustrate the logic of how the program makes determinations to recommend diet and physical activity to a person, we will use a person with a defined set of characteristics and see how the Program recommends either Physical activity or diet. Here are our example Person’s characteristics:\n",
        "\n"
      ]
    },
    {
      "cell_type": "code",
      "metadata": {
        "id": "HYeRPNymjBpm"
      },
      "source": [
        "characteristics=[\t\"Gender\",\t\"Age\",\t\"Ethnicity\", \"Income\",\t\"Work hours\",\t\"Health condition\",\t\"Education\",\"Motivation\", \"Attitude\", \"Intention\", \"Ownership\"]\n",
        "Personcharacteristic =['Female', '(50, 75]','African American','150,000-199,999','16-35 hrs/week','Excellent',\n",
        "                       '4-year college degree','(0.25, 0.5]','(0.75, 1.0]', '(0.75, 1.0]','(0.5, 0.75]']"
      ],
      "execution_count": null,
      "outputs": []
    },
    {
      "cell_type": "markdown",
      "metadata": {
        "id": "PbpIbrYmlzxV"
      },
      "source": [
        "**Here we transform the above list of attributes and list of characteristics into an object for better readability**"
      ]
    },
    {
      "cell_type": "code",
      "metadata": {
        "colab": {
          "base_uri": "https://localhost:8080/"
        },
        "id": "-j9q7n1MiBQb",
        "outputId": "15b6f1c3-7bd0-4344-ebd0-62b627ea823d"
      },
      "source": [
        "Participant=dict(zip(characteristics, Personcharacteristic))\n",
        "Participant"
      ],
      "execution_count": null,
      "outputs": [
        {
          "output_type": "execute_result",
          "data": {
            "text/plain": [
              "{'Age': '(50, 75]',\n",
              " 'Attitude': '(0.75, 1.0]',\n",
              " 'Education': '4-year college degree',\n",
              " 'Ethnicity': 'African American',\n",
              " 'Gender': 'Female',\n",
              " 'Health condition': 'Excellent',\n",
              " 'Income': '150,000-199,999',\n",
              " 'Intention': '(0.75, 1.0]',\n",
              " 'Motivation': '(0.25, 0.5]',\n",
              " 'Ownership': '(0.5, 0.75]',\n",
              " 'Work hours': '16-35 hrs/week'}"
            ]
          },
          "metadata": {
            "tags": []
          },
          "execution_count": 16
        }
      ]
    },
    {
      "cell_type": "markdown",
      "metadata": {
        "id": "I-5f7q_4ma5_"
      },
      "source": [
        "The program first calculates the probabilities for every characteristic. In our example, the participant is a **female** , so bases on all prior observations we calculate the **joint probabilities for:**\n",
        "\n",
        "1. Being a **female** and recommended **diet**\n",
        "2. Being a **female** and recommended **Physical activities.**\n",
        "\n",
        "**We repeat the same process for all other attributes and we store all the joint probabilities for all the characteristics and store the results in a two list.**\n",
        "\n",
        "- One called **dietProb** to store all the probabilities for having a characteristic and be recommended **diet**.\n",
        "- One called **PhyProb** to store all the probabilities for having a characteristic and be recommended **Physical activity**.\n",
        "\n",
        "Here are the list results for our **example participant**"
      ]
    },
    {
      "cell_type": "code",
      "metadata": {
        "colab": {
          "base_uri": "https://localhost:8080/"
        },
        "id": "8MZYUDDxnWGW",
        "outputId": "696b36c6-19d9-4715-924d-b726fdc98bf3"
      },
      "source": [
        "df_list=[]\n",
        "for i in Participant.keys():\n",
        "  df_=df.groupby(i)[[\"num_diet\", \"num_Pyh\"]].sum()\n",
        "  conditional=(df_.append(df_.sum().rename('Total')).assign(Total=lambda d: d.sum(1))/df_.sum().sum()).round(2)\n",
        "  df_list.append(conditional)\n",
        "\n",
        "dietProb=[]\n",
        "PhyProb=[]\n",
        "print(\"____________________________________________________________________________________________________________________\")\n",
        "print(\n",
        "                    \"{:35.30}\".format(\"Charactetistics \"),\n",
        "                    \"{:45.40}\".format(\"Probability to be recommeded diet\",),\n",
        "                    \"{:30.40}\".format(\"Probability to be recommeded Phy\" ),\n",
        "                )\n",
        "print(\"====================================================================================================================\")\n",
        "for i in range(len(list(Participant.values()))):\n",
        "  dt=df_list[i][\"num_diet\"][list(Participant.values())[i]]\n",
        "  dietProb.append(dt)\n",
        "\n",
        "  ph=df_list[i][\"num_Pyh\"][list(Participant.values())[i]]\n",
        "\n",
        "  PhyProb.append(ph)    \n",
        " \n",
        "                         \n",
        "  print(\n",
        "                    \"{:45.30}\".format(str(list(Participant.keys())[i]+' ---> '+list(Participant.values())[i])),\n",
        "                    \"{:45.30}\".format(str(dt)),\n",
        "                    \"{:30.30}\".format(str(ph)),\n",
        "                )\n",
        "  print(\"___________________________________________________________________________________________________________________\")\n",
        "print(\"\")\n",
        "print(\"This is the list of joint probabiles of person \")"
      ],
      "execution_count": 51,
      "outputs": [
        {
          "output_type": "stream",
          "text": [
            "____________________________________________________________________________________________________________________\n",
            "Charactetistics                     Probability to be recommeded diet             Probability to be recommeded Phy\n",
            "====================================================================================================================\n",
            "Gender ---> Female                            0.27                                          0.39                          \n",
            "___________________________________________________________________________________________________________________\n",
            "Age ---> (50, 75]                             0.04                                          0.3                           \n",
            "___________________________________________________________________________________________________________________\n",
            "Ethnicity ---> African America                0.05                                          0.28                          \n",
            "___________________________________________________________________________________________________________________\n",
            "Income ---> 150,000-199,999                   0.1                                           0.04                          \n",
            "___________________________________________________________________________________________________________________\n",
            "Work hours ---> 16-35 hrs/week                0.14                                          0.0                           \n",
            "___________________________________________________________________________________________________________________\n",
            "Health condition ---> Excellen                0.15                                          0.13                          \n",
            "___________________________________________________________________________________________________________________\n",
            "Education ---> 4-year college                 0.25                                          0.04                          \n",
            "___________________________________________________________________________________________________________________\n",
            "Motivation ---> (0.25, 0.5]                   0.19                                          0.14                          \n",
            "___________________________________________________________________________________________________________________\n",
            "Attitude ---> (0.75, 1.0]                     0.21                                          0.01                          \n",
            "___________________________________________________________________________________________________________________\n",
            "Intention ---> (0.75, 1.0]                    0.1                                           0.01                          \n",
            "___________________________________________________________________________________________________________________\n",
            "Ownership ---> (0.5, 0.75]                    0.13                                          0.1                           \n",
            "___________________________________________________________________________________________________________________\n"
          ],
          "name": "stdout"
        }
      ]
    },
    {
      "cell_type": "markdown",
      "metadata": {
        "id": "H5tVs1HX5e-s"
      },
      "source": [
        "Finally, the program recommends either diet or Physical activity as follows;\n",
        "\n",
        "1. Calculate **P(diet)**\n",
        "\n",
        "> - **P(diet)=** P(Female **and** diet) P(Age **and** diet)......p(Ownership **and** diet)\n",
        "\n",
        "2. Calculate **P(physical acitivity)**\n",
        "\n",
        "> - **P(phy)=** P(Female **and** phy) P(Age **and** phy)......p(Ownership **and** phy)\n",
        "\n",
        "We then recommend **diet** or **Physical activity** based on the following condition:\n",
        "\n",
        "- **If P(diet) > P(phy) we recommend diet**\n",
        "- **Else if P(diet) < P(phy) we recommend physical activity.**"
      ]
    },
    {
      "cell_type": "markdown",
      "metadata": {
        "id": "uDoyDjBI_I_T"
      },
      "source": [
        "# **Below id the final Frogram function**"
      ]
    },
    {
      "cell_type": "code",
      "metadata": {
        "id": "zr52h2ZoTr5-"
      },
      "source": [
        "def bayesRulePredition(Participant):\n",
        "  df_list=[]\n",
        "  for i in Participant.keys():\n",
        "    df_=df.groupby(i)[[\"num_diet\", \"num_Pyh\"]].sum()\n",
        "    conditional=(df_.append(df_.sum().rename('Total')).assign(Total=lambda d: d.sum(1))/df_.sum().sum()).round(2)\n",
        "    df_list.append(conditional)\n",
        "\n",
        "  dietProb=[]\n",
        "  PhyProb=[]\n",
        "  for i in range(len(list(Participant.values()))):\n",
        "    dietProb.append(df_list[i][\"num_diet\"][list(Participant.values())[i]])\n",
        "    PhyProb.append(df_list[i][\"num_Pyh\"][list(Participant.values())[i]])\n",
        "  \n",
        "\n",
        "  if np.prod(dietProb) > np.prod(PhyProb):\n",
        "    return 'diet'\n",
        "  else:\n",
        "    return \"Phy\"\n"
      ],
      "execution_count": 65,
      "outputs": []
    },
    {
      "cell_type": "markdown",
      "metadata": {
        "id": "1QB4UrVu_pRb"
      },
      "source": [
        "# **Let's make a prediction**\n",
        "Let's use the program to see whether the app recommends diet or Physical activity for a given person"
      ]
    },
    {
      "cell_type": "markdown",
      "metadata": {
        "id": "9yGIYd98A2zC"
      },
      "source": [
        "here are the caracteristics of an exemple person:"
      ]
    },
    {
      "cell_type": "code",
      "metadata": {
        "id": "sJlXkBVMIh05"
      },
      "source": [
        "exemplePerson_1={'Age': '(50, 75]',\n",
        " 'Attitude': '(0.75, 1.0]',\n",
        " 'Education': '4-year college degree',\n",
        " 'Ethnicity': 'African American',\n",
        " 'Gender': 'Female',\n",
        " 'Health condition': 'Excellent',\n",
        " 'Income': '150,000-199,999',\n",
        " 'Intention': '(0.75, 1.0]',\n",
        " 'Motivation': '(0.25, 0.5]',\n",
        " 'Ownership': '(0.5, 0.75]',\n",
        " 'Work hours': '16-35 hrs/week'}"
      ],
      "execution_count": 77,
      "outputs": []
    },
    {
      "cell_type": "code",
      "metadata": {
        "colab": {
          "base_uri": "https://localhost:8080/",
          "height": 36
        },
        "id": "jRkXlKZLAtGd",
        "outputId": "f1d09fa4-484d-4236-abc3-9f6bbb0e6fb9"
      },
      "source": [
        "bayesRulePredition(exemplePerson_1)"
      ],
      "execution_count": 78,
      "outputs": [
        {
          "output_type": "execute_result",
          "data": {
            "application/vnd.google.colaboratory.intrinsic+json": {
              "type": "string"
            },
            "text/plain": [
              "'diet'"
            ]
          },
          "metadata": {
            "tags": []
          },
          "execution_count": 78
        }
      ]
    },
    {
      "cell_type": "markdown",
      "metadata": {
        "id": "bGSHOKVhDI5p"
      },
      "source": [
        "**We can see that the program recommends diet for exemplePerson_1**"
      ]
    },
    {
      "cell_type": "markdown",
      "metadata": {
        "id": "Uxf0_wwbBY0H"
      },
      "source": [
        "Let's use the program to predict another person, we call here exemplePerson_2"
      ]
    },
    {
      "cell_type": "code",
      "metadata": {
        "id": "fxqXmSrwAyBJ"
      },
      "source": [
        "exemplePerson_2={'Age': '(50, 75]',\n",
        " 'Attitude': '(0.5, 0.75]',\n",
        " 'Education': '4-year college degree',\n",
        " 'Ethnicity': 'African American',\n",
        " 'Gender': 'Female',\n",
        " 'Health condition': 'Excellent',\n",
        " 'Income': '0-24,999',\n",
        " 'Intention': '(0.75, 1.0]',\n",
        " 'Motivation': '(0.0, 0.25]',\n",
        " 'Ownership': '(0.5, 0.75]',\n",
        " 'Work hours': '1-15 hrs/week'}"
      ],
      "execution_count": 81,
      "outputs": []
    },
    {
      "cell_type": "code",
      "metadata": {
        "colab": {
          "base_uri": "https://localhost:8080/",
          "height": 36
        },
        "id": "Xm-_lSYxBuf0",
        "outputId": "273f4ab7-54bc-4cd3-f0b6-1ea5cca67914"
      },
      "source": [
        "bayesRulePredition(exemplePerson_2)"
      ],
      "execution_count": 82,
      "outputs": [
        {
          "output_type": "execute_result",
          "data": {
            "application/vnd.google.colaboratory.intrinsic+json": {
              "type": "string"
            },
            "text/plain": [
              "'Phy'"
            ]
          },
          "metadata": {
            "tags": []
          },
          "execution_count": 82
        }
      ]
    },
    {
      "cell_type": "markdown",
      "metadata": {
        "id": "7BvJ3Ds_EA9o"
      },
      "source": [
        "**We can see that the program recommends diet for exemplePerson_1**"
      ]
    },
    {
      "cell_type": "code",
      "metadata": {
        "id": "hR1bzhioEBsE"
      },
      "source": [
        ""
      ],
      "execution_count": null,
      "outputs": []
    }
  ]
}